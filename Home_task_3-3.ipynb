{
 "cells": [
  {
   "cell_type": "code",
   "execution_count": 1,
   "metadata": {},
   "outputs": [],
   "source": [
    "import pandas as pd\n",
    "import matplotlib.pyplot as plt\n",
    "import numpy as np\n",
    "import seaborn as sns\n",
    "import datetime\n",
    "import random\n",
    "from statsmodels.stats.power import tt_ind_solve_power\n",
    "\n",
    "def date_converter(x):\n",
    "    return datetime.datetime.strptime(x,'%Y-%m-%d')"
   ]
  },
  {
   "cell_type": "markdown",
   "metadata": {},
   "source": [
    "### Задание 3\n",
    "**Срок сдачи: 07 апреля 18:00**\n",
    "\n",
    "В этом задание вы будете работать с выручкой - метрикой с достаточно высокой дисперсией и соответсвенно низкой чувствительностью к изменениям.\n",
    "\n",
    "Вам предстоит разработать подход по повышению чувствительности этой метрики.\n",
    "От успеха данной инициативы зависит то, как быстро мы сможем проверять продуктовые гипотезы."
   ]
  },
  {
   "cell_type": "markdown",
   "metadata": {},
   "source": [
    "#### Для планирования эксперимента изучите данные и метрики 2 балла:\n",
    "\n",
    "- Загрузите файл и изучите данные;\n",
    "- Изучите основные статистики метрики: среднее, стандартное отклонение;\n",
    "- Изучите то, как эти статистики изменяются внутри срезов: user_segment, region, category\n"
   ]
  },
  {
   "cell_type": "markdown",
   "metadata": {},
   "source": [
    "#### Описание данныx\n",
    "\n",
    "event_date - дата \n",
    "\n",
    "user_id - идентификатор пользователя\n",
    "\n",
    "user_segment - сегмент пользователей\n",
    "\n",
    "region - регион\n",
    "\n",
    "category - категория авито\n",
    "\n",
    "revenue_amount - сумма покупок\n"
   ]
  },
  {
   "cell_type": "code",
   "execution_count": 2,
   "metadata": {},
   "outputs": [
    {
     "data": {
      "text/html": [
       "<div>\n",
       "<style scoped>\n",
       "    .dataframe tbody tr th:only-of-type {\n",
       "        vertical-align: middle;\n",
       "    }\n",
       "\n",
       "    .dataframe tbody tr th {\n",
       "        vertical-align: top;\n",
       "    }\n",
       "\n",
       "    .dataframe thead th {\n",
       "        text-align: right;\n",
       "    }\n",
       "</style>\n",
       "<table border=\"1\" class=\"dataframe\">\n",
       "  <thead>\n",
       "    <tr style=\"text-align: right;\">\n",
       "      <th></th>\n",
       "      <th>event_date</th>\n",
       "      <th>user_id</th>\n",
       "      <th>user_segment</th>\n",
       "      <th>category</th>\n",
       "      <th>region</th>\n",
       "      <th>revenue_amount</th>\n",
       "    </tr>\n",
       "  </thead>\n",
       "  <tbody>\n",
       "    <tr>\n",
       "      <th>0</th>\n",
       "      <td>2019-06-18</td>\n",
       "      <td>4129257975403696</td>\n",
       "      <td>4626944681007198896</td>\n",
       "      <td>7204754148424990691</td>\n",
       "      <td>2201388710798473628</td>\n",
       "      <td>139</td>\n",
       "    </tr>\n",
       "    <tr>\n",
       "      <th>1</th>\n",
       "      <td>2019-06-18</td>\n",
       "      <td>7225254357470025</td>\n",
       "      <td>4626944681007198896</td>\n",
       "      <td>57514010642945023</td>\n",
       "      <td>3048517866726460689</td>\n",
       "      <td>193</td>\n",
       "    </tr>\n",
       "    <tr>\n",
       "      <th>2</th>\n",
       "      <td>2019-06-18</td>\n",
       "      <td>8912846500600569</td>\n",
       "      <td>4626944681007198896</td>\n",
       "      <td>5983323600580891431</td>\n",
       "      <td>3048517866726460689</td>\n",
       "      <td>160</td>\n",
       "    </tr>\n",
       "    <tr>\n",
       "      <th>3</th>\n",
       "      <td>2019-06-18</td>\n",
       "      <td>20910801279823046</td>\n",
       "      <td>4626944681007198896</td>\n",
       "      <td>6847326422676498281</td>\n",
       "      <td>7762196236856042106</td>\n",
       "      <td>209</td>\n",
       "    </tr>\n",
       "    <tr>\n",
       "      <th>4</th>\n",
       "      <td>2019-06-18</td>\n",
       "      <td>34873300821657220</td>\n",
       "      <td>2376074197230840906</td>\n",
       "      <td>3187769798308634693</td>\n",
       "      <td>3855810523611026650</td>\n",
       "      <td>160</td>\n",
       "    </tr>\n",
       "  </tbody>\n",
       "</table>\n",
       "</div>"
      ],
      "text/plain": [
       "  event_date            user_id         user_segment             category  \\\n",
       "0 2019-06-18   4129257975403696  4626944681007198896  7204754148424990691   \n",
       "1 2019-06-18   7225254357470025  4626944681007198896    57514010642945023   \n",
       "2 2019-06-18   8912846500600569  4626944681007198896  5983323600580891431   \n",
       "3 2019-06-18  20910801279823046  4626944681007198896  6847326422676498281   \n",
       "4 2019-06-18  34873300821657220  2376074197230840906  3187769798308634693   \n",
       "\n",
       "                region  revenue_amount  \n",
       "0  2201388710798473628             139  \n",
       "1  3048517866726460689             193  \n",
       "2  3048517866726460689             160  \n",
       "3  7762196236856042106             209  \n",
       "4  3855810523611026650             160  "
      ]
     },
     "execution_count": 2,
     "metadata": {},
     "output_type": "execute_result"
    }
   ],
   "source": [
    "df = pd.read_csv('user_amount_var_reduction.csv')\n",
    "df['event_date'] = df.event_date.apply(date_converter)\n",
    "df.head()"
   ]
  },
  {
   "cell_type": "code",
   "execution_count": 3,
   "metadata": {},
   "outputs": [
    {
     "data": {
      "text/plain": [
       "count    8625842.000000\n",
       "mean         400.904657\n",
       "std          960.221741\n",
       "min            1.000000\n",
       "25%           88.000000\n",
       "50%          167.000000\n",
       "75%          405.000000\n",
       "max       288123.000000\n",
       "Name: revenue_amount, dtype: object"
      ]
     },
     "execution_count": 3,
     "metadata": {},
     "output_type": "execute_result"
    }
   ],
   "source": [
    "df.revenue_amount.describe().apply(lambda x: format(x, 'f'))"
   ]
  },
  {
   "cell_type": "markdown",
   "metadata": {},
   "source": [
    "Действительно, выручка имеет очень большое СКО"
   ]
  },
  {
   "cell_type": "code",
   "execution_count": 83,
   "metadata": {},
   "outputs": [
    {
     "data": {
      "text/html": [
       "<div>\n",
       "<style scoped>\n",
       "    .dataframe tbody tr th:only-of-type {\n",
       "        vertical-align: middle;\n",
       "    }\n",
       "\n",
       "    .dataframe tbody tr th {\n",
       "        vertical-align: top;\n",
       "    }\n",
       "\n",
       "    .dataframe thead th {\n",
       "        text-align: right;\n",
       "    }\n",
       "</style>\n",
       "<table border=\"1\" class=\"dataframe\">\n",
       "  <thead>\n",
       "    <tr style=\"text-align: right;\">\n",
       "      <th></th>\n",
       "      <th>count</th>\n",
       "      <th>mean</th>\n",
       "      <th>std</th>\n",
       "      <th>min</th>\n",
       "      <th>25%</th>\n",
       "      <th>50%</th>\n",
       "      <th>75%</th>\n",
       "      <th>max</th>\n",
       "    </tr>\n",
       "    <tr>\n",
       "      <th>user_segment</th>\n",
       "      <th></th>\n",
       "      <th></th>\n",
       "      <th></th>\n",
       "      <th></th>\n",
       "      <th></th>\n",
       "      <th></th>\n",
       "      <th></th>\n",
       "      <th></th>\n",
       "    </tr>\n",
       "  </thead>\n",
       "  <tbody>\n",
       "    <tr>\n",
       "      <th>853431062533847667</th>\n",
       "      <td>1001507.0</td>\n",
       "      <td>1094.330305</td>\n",
       "      <td>2392.330098</td>\n",
       "      <td>1.0</td>\n",
       "      <td>226.0</td>\n",
       "      <td>489.0</td>\n",
       "      <td>1113.0</td>\n",
       "      <td>288123.0</td>\n",
       "    </tr>\n",
       "    <tr>\n",
       "      <th>2376074197230840906</th>\n",
       "      <td>4013951.0</td>\n",
       "      <td>401.615956</td>\n",
       "      <td>571.446013</td>\n",
       "      <td>4.0</td>\n",
       "      <td>109.0</td>\n",
       "      <td>209.0</td>\n",
       "      <td>475.0</td>\n",
       "      <td>52540.0</td>\n",
       "    </tr>\n",
       "    <tr>\n",
       "      <th>4626944681007198896</th>\n",
       "      <td>3610384.0</td>\n",
       "      <td>207.760172</td>\n",
       "      <td>285.545686</td>\n",
       "      <td>4.0</td>\n",
       "      <td>63.0</td>\n",
       "      <td>112.0</td>\n",
       "      <td>230.0</td>\n",
       "      <td>19950.0</td>\n",
       "    </tr>\n",
       "  </tbody>\n",
       "</table>\n",
       "</div>"
      ],
      "text/plain": [
       "                         count         mean          std  min    25%    50%  \\\n",
       "user_segment                                                                  \n",
       "853431062533847667   1001507.0  1094.330305  2392.330098  1.0  226.0  489.0   \n",
       "2376074197230840906  4013951.0   401.615956   571.446013  4.0  109.0  209.0   \n",
       "4626944681007198896  3610384.0   207.760172   285.545686  4.0   63.0  112.0   \n",
       "\n",
       "                        75%       max  \n",
       "user_segment                           \n",
       "853431062533847667   1113.0  288123.0  \n",
       "2376074197230840906   475.0   52540.0  \n",
       "4626944681007198896   230.0   19950.0  "
      ]
     },
     "execution_count": 83,
     "metadata": {},
     "output_type": "execute_result"
    }
   ],
   "source": [
    "df.groupby(['user_segment']).revenue_amount.describe()"
   ]
  },
  {
   "cell_type": "code",
   "execution_count": 22,
   "metadata": {},
   "outputs": [
    {
     "data": {
      "text/plain": [
       "Text(0.5, 1.0, 'user_segment stds')"
      ]
     },
     "execution_count": 22,
     "metadata": {},
     "output_type": "execute_result"
    },
    {
     "data": {
      "image/png": "[encoded data removed]",
      "text/plain": [
       "<Figure size 1152x288 with 2 Axes>"
      ]
     },
     "metadata": {
      "needs_background": "light"
     },
     "output_type": "display_data"
    }
   ],
   "source": [
    "fig, axes = plt.subplots(1, 2, figsize=(16, 4))\n",
    "\n",
    "sns.boxplot(y=df.groupby(['user_segment']).revenue_amount.mean(), ax=axes[0])\n",
    "axes[0].set_title('user_segment means')\n",
    "\n",
    "sns.boxplot(y=df.groupby(['user_segment']).revenue_amount.std(), ax=axes[1])\n",
    "axes[0].set_title('user_segment stds')"
   ]
  },
  {
   "cell_type": "markdown",
   "metadata": {},
   "source": [
    "Внутри срезов по user_segment среднее и СКО сильно отличаются"
   ]
  },
  {
   "cell_type": "code",
   "execution_count": 18,
   "metadata": {},
   "outputs": [
    {
     "data": {
      "text/plain": [
       "Text(0.5, 1.0, 'category stds')"
      ]
     },
     "execution_count": 18,
     "metadata": {},
     "output_type": "execute_result"
    },
    {
     "data": {
      "image/png": "[encoded data removed]",
      "text/plain": [
       "<Figure size 1152x576 with 4 Axes>"
      ]
     },
     "metadata": {
      "needs_background": "light"
     },
     "output_type": "display_data"
    }
   ],
   "source": [
    "fig, axes = plt.subplots(2, 2, figsize=(16, 8))\n",
    "\n",
    "sns.boxplot(y=df.groupby(['region']).revenue_amount.mean(), ax=axes[0, 0])\n",
    "axes[0, 0].set_title('region means')\n",
    "\n",
    "sns.boxplot(y=df.groupby(['region']).revenue_amount.std(), ax=axes[0, 1])\n",
    "axes[0, 1].set_title('region stds')\n",
    "\n",
    "sns.boxplot(y=df.groupby(['category']).revenue_amount.mean(), ax=axes[1, 0])\n",
    "axes[1, 0].set_title('category means')\n",
    "\n",
    "sns.boxplot(y=df.groupby(['category']).revenue_amount.std(), ax=axes[1, 1])\n",
    "axes[1, 1].set_title('category stds')"
   ]
  },
  {
   "cell_type": "markdown",
   "metadata": {},
   "source": [
    "Для срезов по region И category разброс среднего и СКО не так велики, как для user_segment. Хотя имеют сильные выбросы, особенно СКО"
   ]
  },
  {
   "cell_type": "markdown",
   "metadata": {},
   "source": [
    "\n",
    "#### Предскажите минимально детектируемый эффект (MDE) 2 балла:\n",
    "\n",
    "- Для размеров тестовых групп 10,25,50% и длительностей 30, 60, 90 дней предскажите минимально детектируемый эффект;\n"
   ]
  },
  {
   "cell_type": "code",
   "execution_count": 26,
   "metadata": {},
   "outputs": [],
   "source": [
    "def choose_date(data, start_date, delta, share): \n",
    "    tmp = data[(data.event_date >= start_date) & (data.event_date <= start_date + datetime.timedelta(days=delta))]\n",
    "    tmp = tmp.groupby(['user_id']).sum().reset_index()\n",
    "    x = tmp[(tmp.user_id) % 100 <= 100*share].reset_index()\n",
    "    return x"
   ]
  },
  {
   "cell_type": "markdown",
   "metadata": {},
   "source": [
    "На последних трех месяцах"
   ]
  },
  {
   "cell_type": "code",
   "execution_count": 23,
   "metadata": {},
   "outputs": [],
   "source": [
    "last_3_months = df[df.event_date >= '2019-10-01']"
   ]
  },
  {
   "cell_type": "code",
   "execution_count": 30,
   "metadata": {},
   "outputs": [
    {
     "name": "stdout",
     "output_type": "stream",
     "text": [
      "Длительность: 30, размер 10 %, MDE 246.6019380436979, срднее 1043.7068149977113, std 7473.027851423697\n",
      "Длительность: 30, размер 25.0 %, MDE 111.44431948243854, срднее 1052.1895276738508, std 8219.810139149788\n",
      "Длительность: 30, размер 50 %, MDE 54.333645493037274, срднее 1041.6557131027225, std 7931.516637805615\n",
      "Длительность: 60, размер 10 %, MDE 289.9782057605011, срднее 1269.6505724820493, std 10507.801063628704\n",
      "Длительность: 60, размер 25.0 %, MDE 124.92573117166624, срднее 1275.438192218087, std 11018.000264954419\n",
      "Длительность: 60, размер 50 %, MDE 63.537822552455005, срднее 1265.7312709645578, std 11089.09819315966\n",
      "Длительность: 90, размер 10 %, MDE 297.7185920407089, срднее 1323.8597789267249, std 11255.322328617807\n",
      "Длительность: 90, размер 25.0 %, MDE 127.34951287693092, срднее 1331.4330499868356, std 11721.488088814554\n",
      "Длительность: 90, размер 50 %, MDE 64.5545341798482, срднее 1319.885562879818, std 11754.279197783371\n"
     ]
    }
   ],
   "source": [
    "MDEs = []\n",
    "for i in [30, 60, 90]:\n",
    "    for j in [1, 2.5, 5]:\n",
    "\n",
    "        x = choose_date(last_3_months, min(last_3_months.event_date), i, j/10) # получаем необходимую подвыборку\n",
    "\n",
    "        \n",
    "        mean = x.revenue_amount.mean()\n",
    "        std = x.revenue_amount.std()\n",
    "        alpha = 0.05\n",
    "        power = 0.8\n",
    "        \n",
    "            \n",
    "        effect_size = tt_ind_solve_power(effect_size=None, alpha=alpha, power=power, nobs1=x.shape[0], ratio=(10 - j)/j, alternative = 'two-sided')    \n",
    "        MDEs.append([i, j*10, effect_size, effect_size*std])\n",
    "        print(f'Длительность: {i}, размер {j*10} %, MDE {effect_size*std}, срднее {mean}, std {std}') # \n"
   ]
  },
  {
   "cell_type": "code",
   "execution_count": 31,
   "metadata": {},
   "outputs": [
    {
     "data": {
      "text/plain": [
       "[30, 50, 0.006850347540602219, 54.333645493037274]"
      ]
     },
     "execution_count": 31,
     "metadata": {},
     "output_type": "execute_result"
    }
   ],
   "source": [
    "min(MDEs, key=lambda x: x[3])"
   ]
  },
  {
   "cell_type": "markdown",
   "metadata": {},
   "source": [
    "При длительности 30 дней и размере 50 %, MDE минимален и равен 54.3, а стандартизированный MDE равен 0.007."
   ]
  },
  {
   "cell_type": "markdown",
   "metadata": {},
   "source": [
    "С начала"
   ]
  },
  {
   "cell_type": "code",
   "execution_count": 36,
   "metadata": {},
   "outputs": [
    {
     "name": "stdout",
     "output_type": "stream",
     "text": [
      "Длительность: 30, размер 10 %, MDE 78.25114665544338, срднее 1001.790907217102, std 6905.511883034233\n",
      "Длительность: 30, размер 25.0 %, MDE 62.86846578021405, срднее 1008.828878636757, std 7786.768516769544\n",
      "Длительность: 30, размер 50 %, MDE 47.711619824364014, срднее 987.4865786393725, std 6761.943172332728\n",
      "Длительность: 60, размер 10 %, MDE 98.20289936394644, срднее 1272.554426483381, std 10755.404117691782\n",
      "Длительность: 60, размер 25.0 %, MDE 77.56387447726031, срднее 1286.3497134027207, std 11925.022317828407\n",
      "Длительность: 60, размер 50 %, MDE 59.16372756008988, срднее 1262.971132384613, std 10401.374205355281\n",
      "Длительность: 90, размер 10 %, MDE 108.84317480867584, срднее 1451.1763804688012, std 13643.824287517415\n",
      "Длительность: 90, размер 25.0 %, MDE 88.54951036954296, срднее 1471.5001281176583, std 15578.256968553891\n",
      "Длительность: 90, размер 50 %, MDE 67.88001407256384, срднее 1447.4503260953327, std 13660.898582165919\n"
     ]
    }
   ],
   "source": [
    "MDEs = []\n",
    "for i in [30, 60, 90]:\n",
    "    for j in [1, 2.5, 5]:\n",
    "\n",
    "        x = choose_date(df, min(df.event_date), i, j/10) # получаем необходимую подвыборку\n",
    "\n",
    "        \n",
    "        mean = x.revenue_amount.mean()\n",
    "        std = x.revenue_amount.std()\n",
    "        alpha = 0.05\n",
    "        power = 0.8\n",
    "        \n",
    "            \n",
    "        effect_size = tt_ind_solve_power(effect_size=None, alpha=alpha, power=power, nobs1=x.shape[0], ratio=(10 - j)/j, alternative = 'two-sided')    \n",
    "        MDEs.append([i, j*10, effect_size, effect_size*std])\n",
    "        print(f'Длительность: {i}, размер {j*10} %, MDE {effect_size*std}, срднее {mean}, std {std}') # \n"
   ]
  },
  {
   "cell_type": "code",
   "execution_count": 38,
   "metadata": {},
   "outputs": [
    {
     "data": {
      "text/plain": [
       "[30, 50, 0.007055903696378524, 47.711619824364014]"
      ]
     },
     "execution_count": 38,
     "metadata": {},
     "output_type": "execute_result"
    }
   ],
   "source": [
    "min(MDEs, key=lambda x: x[3])"
   ]
  },
  {
   "cell_type": "markdown",
   "metadata": {},
   "source": [
    "При длительности 30 дней и размере 50 %, MDE минимален и равен 47.7, а стандартизированный MDE равен 0.007."
   ]
  },
  {
   "cell_type": "markdown",
   "metadata": {},
   "source": [
    "\n",
    "\n",
    "#### CUPED 6 баллов\n",
    "Разработайте подход по снижению дисперсии на основе методики CUPED:\n",
    "\n",
    "- Рассчитайте CUPED метрику на основе данных за периода в 30 дней перед предполагаемым периодом сбора основной выборки и опишите как изменился MDE для выборок 50/50%, собранных за 30 дней (2 бала). \n",
    "- Проверьте насколько данный подход подвержен сезональности. Как меняется MDE, если применять данный подход в разные периоды (2 бала). \n",
    "- Оптимизируйте подход варьируя количество дней до теста, которые вы будете для расчёта CUPED метрики. Какое максимальное снижение MDE вы смогли достичь (2 бала).\n"
   ]
  },
  {
   "cell_type": "code",
   "execution_count": 39,
   "metadata": {},
   "outputs": [],
   "source": [
    "def cuped_mde_compute(data_frame: pd.DataFrame, start: std, days_before_test: int=30) -> float:\n",
    "    \"\"\"\n",
    "        Расчет CUPED метрики на основе данных за период в days_before_test дней перед \n",
    "        предполагаемым периодом сбора основной выборки и  MDE для выборок 50/50%, собранных за 30 дней.\n",
    "        \n",
    "        data_frame: columns = ['user_id', 'revenue_amount']\n",
    "    \"\"\"\n",
    "    end = datetime.datetime.strptime(start, '%Y-%m-%d') - datetime.timedelta(days=1)\n",
    "    pre_data = data_frame[(data_frame.event_date >= end - datetime.timedelta(days=days_before_test)) & \n",
    "                  (data_frame.event_date <= end)]\n",
    "    pre_data = pre_data.groupby(['user_id']).sum().reset_index()[['user_id', 'revenue_amount']]\n",
    "    pre_data.rename(columns={'revenue_amount': 'pre_revenue_amount'}, inplace=True)\n",
    "    pre_data['group'] = np.where((pre_data.user_id) % 100 <= 100*0.5, 'test', 'control')\n",
    "\n",
    "\n",
    "    data = data_frame[(data_frame.event_date >= datetime.datetime.strptime(start, '%Y-%m-%d')) & \n",
    "                (data_frame.event_date <= datetime.datetime.strptime(start, '%Y-%m-%d') + datetime.timedelta(days=30))]\n",
    "    data = data.groupby(['user_id']).sum().reset_index()[['user_id', 'revenue_amount']]\n",
    "    data['group'] = np.where((data.user_id) % 100 <= 100*0.5, 'test', 'control')\n",
    "\n",
    "\n",
    "    full_data = data.merge(pre_data, on='user_id', how='left')\n",
    "    full_data.pre_revenue_amount.fillna(0, inplace=True)\n",
    "    full_data.group_y.fillna(full_data.group_x, inplace=True)\n",
    "    full_data.rename(columns={'group_x': 'group'}, inplace=True)\n",
    "    full_data.drop(columns=['group_y'], inplace=True)\n",
    "\n",
    "\n",
    "    full_data['pre_revenue_amount_average'] = full_data.pre_revenue_amount.mean()\n",
    "    teta = np.cov(full_data.revenue_amount, full_data.pre_revenue_amount, ddof=1)[1,0] / np.var(full_data.pre_revenue_amount, ddof=1)\n",
    "    print(f'theta = {teta}')\n",
    "    corr = np.corrcoef(full_data.revenue_amount, full_data.pre_revenue_amount)[1,0]\n",
    "    print(f'corr = {corr}')\n",
    "    full_data['cuped_revenue_amount'] = full_data.revenue_amount - teta * (full_data.pre_revenue_amount - full_data.pre_revenue_amount_average)\n",
    "    \n",
    "    std_total = (full_data.groupby(['group'])['revenue_amount'].var(ddof=1)[0] / 50 + full_data.groupby(['group'])['revenue_amount'].var(ddof=1)[1] / 50)**0.5\n",
    "    print(f'STD total = {std_total}')\n",
    "    std_cuped = std_total*(1 - corr**2)**0.5\n",
    "    print(f'theoretic STD cuped = {std_cuped}')\n",
    "\n",
    "    data_std_cuped = (full_data.groupby(['group'])['cuped_revenue_amount'].var(ddof=1)[0] / 50 + full_data.groupby(['group'])['cuped_revenue_amount'].var(ddof=1)[1] / 50)**0.5\n",
    "    print(f'data STD cuped = {data_std_cuped}')\n",
    "    x = full_data[full_data.group == 'test']\n",
    "\n",
    "            \n",
    "    mean = x.cuped_revenue_amount.mean()\n",
    "    std = x.cuped_revenue_amount.std()\n",
    "    alpha = 0.05\n",
    "    power = 0.8\n",
    "\n",
    "        \n",
    "    effect_size = tt_ind_solve_power(effect_size=None, alpha=alpha, power=power, nobs1=x.shape[0], ratio=1, alternative = 'two-sided')    \n",
    "    mde = effect_size*std\n",
    "    print(f'MDE {mde}, срднее {mean}, std {std}') #\n",
    "\n",
    "\n",
    "\n",
    "    return mde"
   ]
  },
  {
   "cell_type": "markdown",
   "metadata": {},
   "source": [
    "Для периода, на котором получили MDE - 54.3"
   ]
  },
  {
   "cell_type": "code",
   "execution_count": 44,
   "metadata": {},
   "outputs": [
    {
     "name": "stdout",
     "output_type": "stream",
     "text": [
      "theta = 1.1036949218056955\n",
      "corr = 0.8923722868345921\n",
      "STD total = 1565.2287399379009\n",
      "theoretic STD cuped = 706.3877506053001\n",
      "data STD cuped = 707.8571445445777\n",
      "MDE 22.06005577617632, срднее 1046.2346395361344, std 3220.2827149171185\n"
     ]
    },
    {
     "data": {
      "text/plain": [
       "22.06005577617632"
      ]
     },
     "execution_count": 44,
     "metadata": {},
     "output_type": "execute_result"
    }
   ],
   "source": [
    "cuped_mde_compute(df, '2019-10-01')"
   ]
  },
  {
   "cell_type": "code",
   "execution_count": 46,
   "metadata": {},
   "outputs": [
    {
     "data": {
      "text/plain": [
       "2.462972393876347"
      ]
     },
     "execution_count": 46,
     "metadata": {},
     "output_type": "execute_result"
    }
   ],
   "source": [
    "7931.51/3220.3"
   ]
  },
  {
   "cell_type": "markdown",
   "metadata": {},
   "source": [
    "Видим сильное уменьшение MDE с 54.3 до 22, а именно в 2.5 раза."
   ]
  },
  {
   "cell_type": "code",
   "execution_count": 47,
   "metadata": {},
   "outputs": [
    {
     "name": "stdout",
     "output_type": "stream",
     "text": [
      "Время начала: 2019-07-19 00:00:00\n",
      "\n",
      "theta = 0.8684844801253909\n",
      "corr = 0.8525084500889035\n",
      "STD total = 1252.4260115193808\n",
      "theoretic STD cuped = 654.6599114269022\n",
      "data STD cuped = 653.1899387488452\n",
      "MDE 28.284214649603413, срднее 1006.9553386939523, std 3941.1968508987306\n",
      "\n",
      "Время начала: 2019-08-18 00:00:00\n",
      "\n",
      "theta = 0.9426932222768987\n",
      "corr = 0.9081462232226486\n",
      "STD total = 1298.983108437214\n",
      "theoretic STD cuped = 543.8233348368967\n",
      "data STD cuped = 544.5535080922651\n",
      "MDE 19.82235845659888, срднее 1020.255621179663, std 2800.8480353672876\n",
      "\n",
      "Время начала: 2019-09-17 00:00:00\n",
      "\n",
      "theta = 1.0579186515214427\n",
      "corr = 0.8830726123783919\n",
      "STD total = 1494.8813638015665\n",
      "theoretic STD cuped = 701.4526893379108\n",
      "data STD cuped = 703.9379987826109\n",
      "MDE 20.122826922741055, срднее 1038.704643155219, std 2916.634607388478\n",
      "\n",
      "Время начала: 2019-10-17 00:00:00\n",
      "\n",
      "theta = 0.7773354093128058\n",
      "corr = 0.873023742070727\n",
      "STD total = 1403.5784074559112\n",
      "theoretic STD cuped = 684.4938991644367\n",
      "data STD cuped = 684.9476293867154\n",
      "MDE 24.564428913537796, срднее 954.4271819235502, std 3372.220146030929\n",
      "\n"
     ]
    }
   ],
   "source": [
    "seasonal_mde = []\n",
    "starts = [datetime.datetime.strptime('2019-06-18', '%Y-%m-%d') + datetime.timedelta(days=31)]\n",
    "while starts[-1] <= df.event_date.iloc[-1] - datetime.timedelta(days=30):\n",
    "    starts.append(starts[-1] + datetime.timedelta(days=30))\n",
    "starts.pop(-1)\n",
    "for start in starts:\n",
    "    print(f'Время начала: {start}\\n')\n",
    "    seasonal_mde.append((str(start)[:10], cuped_mde_compute(df, str(start)[:10])))\n",
    "    print()"
   ]
  },
  {
   "cell_type": "code",
   "execution_count": 97,
   "metadata": {},
   "outputs": [
    {
     "name": "stdout",
     "output_type": "stream",
     "text": [
      "Время начала: 2019-06-24 00:00:00\n",
      "\n",
      "theta = 4.5127045116148805\n",
      "corr = 0.7888967435102445\n",
      "STD total = 1260.9240507294014\n",
      "theoretic STD cuped = 774.8703294286387\n",
      "data STD cuped = 775.182905836938\n",
      "MDE 30.03039680059749, срднее 1007.8998690467417, std 4260.702748878155\n",
      "\n",
      "Время начала: 2019-07-24 00:00:00\n",
      "\n",
      "theta = 3.613606775677062\n",
      "corr = 0.7491451487792744\n",
      "STD total = 1326.7168850966987\n",
      "theoretic STD cuped = 878.8250619797802\n",
      "data STD cuped = 880.9343554719698\n",
      "MDE 31.38491710924178, срднее 1037.19428562027, std 4382.244516044375\n",
      "\n",
      "Время начала: 2019-08-23 00:00:00\n",
      "\n",
      "theta = 3.816514894442752\n",
      "corr = 0.851777458591204\n",
      "STD total = 1277.1791617944425\n",
      "theoretic STD cuped = 669.1189788238063\n",
      "data STD cuped = 670.2616488775219\n",
      "MDE 23.57996667910941, срднее 995.755855536526, std 3340.802796120728\n",
      "\n",
      "Время начала: 2019-09-22 00:00:00\n",
      "\n",
      "theta = 4.174582502126489\n",
      "corr = 0.8577424127006997\n",
      "STD total = 1506.7754341292489\n",
      "theoretic STD cuped = 774.6026858632615\n",
      "data STD cuped = 776.3693649886908\n",
      "MDE 24.186718059636913, срднее 1037.9945059537174, std 3511.2182882529933\n",
      "\n",
      "Время начала: 2019-10-22 00:00:00\n",
      "\n",
      "theta = 3.6078082238874853\n",
      "corr = 0.8495183660575358\n",
      "STD total = 1390.4475473589644\n",
      "theoretic STD cuped = 733.5431799036933\n",
      "data STD cuped = 733.898715787369\n",
      "MDE 26.525821576053247, срднее 967.2786445546333, std 3616.0309746051425\n",
      "\n",
      "Время начала: 2019-06-29 00:00:00\n",
      "\n",
      "theta = 1.7308769239377215\n",
      "corr = 0.7719322113045556\n",
      "STD total = 1173.8428656885578\n",
      "theoretic STD cuped = 746.2176073218691\n",
      "data STD cuped = 744.9401872184242\n",
      "MDE 31.148355333030036, срднее 987.5654142234843, std 4390.125313973491\n",
      "\n",
      "Время начала: 2019-07-29 00:00:00\n",
      "\n",
      "theta = 2.5952871115817193\n",
      "corr = 0.8509147357753586\n",
      "STD total = 1370.1259267123735\n",
      "theoretic STD cuped = 719.7323950946329\n",
      "data STD cuped = 719.7008126134815\n",
      "MDE 28.49659899859498, срднее 1053.8066790173668, std 3987.465903613936\n",
      "\n",
      "Время начала: 2019-08-28 00:00:00\n",
      "\n",
      "theta = 2.128513511880047\n",
      "corr = 0.8368959313682414\n",
      "STD total = 1314.4230628684143\n",
      "theoretic STD cuped = 719.4652857843794\n",
      "data STD cuped = 722.0147392564598\n",
      "MDE 22.733640083600736, срднее 1017.7281333830858, std 3242.7404281639124\n",
      "\n",
      "Время начала: 2019-09-27 00:00:00\n",
      "\n",
      "theta = 2.4130584501677204\n",
      "corr = 0.8726760326805422\n",
      "STD total = 1508.4184699328234\n",
      "theoretic STD cuped = 736.5602013374565\n",
      "data STD cuped = 737.9179380482067\n",
      "MDE 23.46481940539164, срднее 1021.5289515546308, std 3410.424897676756\n",
      "\n",
      "Время начала: 2019-10-27 00:00:00\n",
      "\n",
      "theta = 1.7769280527868765\n",
      "corr = 0.850338620866137\n",
      "STD total = 1334.1353800049117\n",
      "theoretic STD cuped = 702.0699418177132\n",
      "data STD cuped = 702.009215477913\n",
      "MDE 26.030107430194093, срднее 953.7305501240726, std 3506.88364485083\n",
      "\n",
      "Время начала: 2019-07-04 00:00:00\n",
      "\n",
      "theta = 1.4527537917197857\n",
      "corr = 0.8124586260611021\n",
      "STD total = 1218.7841381698447\n",
      "theoretic STD cuped = 710.5741281847185\n",
      "data STD cuped = 709.0247913657678\n",
      "MDE 30.121160096790685, срднее 1003.524855285776, std 4230.654529175911\n",
      "\n",
      "Время начала: 2019-08-03 00:00:00\n",
      "\n",
      "theta = 1.7116016607196154\n",
      "corr = 0.8784073232046449\n",
      "STD total = 1334.60544379415\n",
      "theoretic STD cuped = 637.8249269896585\n",
      "data STD cuped = 637.0742577024997\n",
      "MDE 26.515344791869584, срднее 1025.9177562534305, std 3702.856679700627\n",
      "\n",
      "Время начала: 2019-09-02 00:00:00\n",
      "\n",
      "theta = 1.6917459402904529\n",
      "corr = 0.8718545482005419\n",
      "STD total = 1354.0919832464199\n",
      "theoretic STD cuped = 663.1867102642419\n",
      "data STD cuped = 664.9134596238606\n",
      "MDE 21.527998190670253, срднее 1025.6040612576687, std 3085.0509737250914\n",
      "\n",
      "Время начала: 2019-10-02 00:00:00\n",
      "\n",
      "theta = 1.8214261766448825\n",
      "corr = 0.8902535078765512\n",
      "STD total = 1564.421056908626\n",
      "theoretic STD cuped = 712.5395956749921\n",
      "data STD cuped = 713.1272156399567\n",
      "MDE 23.858734185692228, срднее 1040.7980878969333, std 3478.8885755934857\n",
      "\n",
      "Время начала: 2019-11-01 00:00:00\n",
      "\n",
      "theta = 1.1994527718140249\n",
      "corr = 0.846049253931511\n",
      "STD total = 1321.4615344499402\n",
      "theoretic STD cuped = 704.4774029234819\n",
      "data STD cuped = 704.9823385677711\n",
      "MDE 24.23228820050145, срднее 941.5501974899119, std 3231.8994898998308\n",
      "\n",
      "Время начала: 2019-07-09 00:00:00\n",
      "\n",
      "theta = 1.2626209820556664\n",
      "corr = 0.8400488054908637\n",
      "STD total = 1257.1991054640948\n",
      "theoretic STD cuped = 682.0441344979442\n",
      "data STD cuped = 680.7242578170216\n",
      "MDE 28.526140233850555, срднее 1029.1190803098273, std 4008.4160235312743\n",
      "\n",
      "Время начала: 2019-08-08 00:00:00\n",
      "\n",
      "theta = 1.38796613284423\n",
      "corr = 0.8865823982463438\n",
      "STD total = 1355.7070004347227\n",
      "theoretic STD cuped = 627.110334165594\n",
      "data STD cuped = 626.8224386320043\n",
      "MDE 25.52097597489051, срднее 1025.0647351705784, std 3581.479007382999\n",
      "\n",
      "Время начала: 2019-09-07 00:00:00\n",
      "\n",
      "theta = 1.2399507741163478\n",
      "corr = 0.8547405094061388\n",
      "STD total = 1363.0665678690775\n",
      "theoretic STD cuped = 707.5072639131923\n",
      "data STD cuped = 708.9959701288121\n",
      "MDE 22.762208425239553, срднее 1005.926732745555, std 3261.0741228961624\n",
      "\n",
      "Время начала: 2019-10-07 00:00:00\n",
      "\n",
      "theta = 1.3642349830065965\n",
      "corr = 0.889874610943153\n",
      "STD total = 1553.8738209486896\n",
      "theoretic STD cuped = 708.8853041331519\n",
      "data STD cuped = 708.6782122474148\n",
      "MDE 25.644648665118996, срднее 1028.3088245874565, std 3701.168842119983\n",
      "\n",
      "Время начала: 2019-11-06 00:00:00\n",
      "\n",
      "theta = 0.9890202212484758\n",
      "corr = 0.8544074649665436\n",
      "STD total = 1328.1280564473752\n",
      "theoretic STD cuped = 690.1000972512518\n",
      "data STD cuped = 690.5636637404142\n",
      "MDE 22.847724631243928, срднее 987.6094814985449, std 3083.0294290977004\n",
      "\n",
      "Время начала: 2019-07-14 00:00:00\n",
      "\n",
      "theta = 1.043289088428423\n",
      "corr = 0.8389818033796281\n",
      "STD total = 1272.4836078534186\n",
      "theoretic STD cuped = 692.4340112538592\n",
      "data STD cuped = 691.0781359033533\n",
      "MDE 29.22200373271717, срднее 1029.4655744273782, std 4086.59568996099\n",
      "\n",
      "Время начала: 2019-08-13 00:00:00\n",
      "\n",
      "theta = 1.162674661885146\n",
      "corr = 0.9091056233730751\n",
      "STD total = 1329.2451257917007\n",
      "theoretic STD cuped = 553.7178993891642\n",
      "data STD cuped = 554.3119927014868\n",
      "MDE 20.871313759323236, срднее 1031.4016189962656, std 2941.4695725063793\n",
      "\n",
      "Время начала: 2019-09-12 00:00:00\n",
      "\n",
      "theta = 1.1519192652668404\n",
      "corr = 0.8648838890425224\n",
      "STD total = 1437.142176662493\n",
      "theoretic STD cuped = 721.405089315945\n",
      "data STD cuped = 723.1980782418223\n",
      "MDE 22.273649973265822, срднее 1021.7571871175596, std 3209.792197424998\n",
      "\n",
      "Время начала: 2019-10-12 00:00:00\n",
      "\n",
      "theta = 0.9617068270351582\n",
      "corr = 0.874564230729172\n",
      "STD total = 1448.1630167211317\n",
      "theoretic STD cuped = 702.228277825131\n",
      "data STD cuped = 702.7905832462635\n",
      "MDE 24.910743615757962, срднее 983.6684328519692, std 3479.982064491604\n",
      "\n",
      "Время начала: 2019-07-19 00:00:00\n",
      "\n",
      "theta = 0.8684844801253909\n",
      "corr = 0.8525084500889035\n",
      "STD total = 1252.4260115193808\n",
      "theoretic STD cuped = 654.6599114269022\n",
      "data STD cuped = 653.1899387488452\n",
      "MDE 28.284214649603413, срднее 1006.9553386939523, std 3941.1968508987306\n",
      "\n",
      "Время начала: 2019-08-18 00:00:00\n",
      "\n",
      "theta = 0.9426932222768987\n",
      "corr = 0.9081462232226486\n",
      "STD total = 1298.983108437214\n",
      "theoretic STD cuped = 543.8233348368967\n",
      "data STD cuped = 544.5535080922651\n",
      "MDE 19.82235845659888, срднее 1020.255621179663, std 2800.8480353672876\n",
      "\n",
      "Время начала: 2019-09-17 00:00:00\n",
      "\n",
      "theta = 1.0579186515214427\n",
      "corr = 0.8830726123783919\n",
      "STD total = 1494.8813638015665\n",
      "theoretic STD cuped = 701.4526893379108\n",
      "data STD cuped = 703.9379987826109\n",
      "MDE 20.122826922741055, срднее 1038.704643155219, std 2916.634607388478\n",
      "\n",
      "Время начала: 2019-10-17 00:00:00\n",
      "\n",
      "theta = 0.7773354093128058\n",
      "corr = 0.873023742070727\n",
      "STD total = 1403.5784074559112\n",
      "theoretic STD cuped = 684.4938991644367\n",
      "data STD cuped = 684.9476293867154\n",
      "MDE 24.564428913537796, срднее 954.4271819235502, std 3372.220146030929\n",
      "\n"
     ]
    }
   ],
   "source": [
    "days_before_test_list = [5, 10, 15, 20, 25, 30]\n",
    "seasonal_mde_by_days_before = []\n",
    "for days_before_test in days_before_test_list:\n",
    "    starts = [datetime.datetime.strptime('2019-06-18', '%Y-%m-%d') + datetime.timedelta(days=days_before_test + 1)]\n",
    "    while starts[-1] <= df.event_date.iloc[-1] - datetime.timedelta(days=30):\n",
    "        starts.append(starts[-1] + datetime.timedelta(days=30))\n",
    "    starts.pop(-1)\n",
    "    for start in starts:\n",
    "        print(f'Время начала: {start}\\n')\n",
    "        seasonal_mde_by_days_before.append((days_before_test, str(start)[:10], cuped_mde_compute(df, str(start)[:10], days_before_test)))\n",
    "        print()"
   ]
  },
  {
   "cell_type": "markdown",
   "metadata": {},
   "source": [
    "Проверим на сезональность"
   ]
  },
  {
   "cell_type": "code",
   "execution_count": 67,
   "metadata": {},
   "outputs": [
    {
     "data": {
      "text/plain": [
       "[('2019-07-19', 28.284214649603413),\n",
       " ('2019-08-18', 19.82235845659888),\n",
       " ('2019-09-17', 20.122826922741055),\n",
       " ('2019-10-17', 24.564428913537796)]"
      ]
     },
     "execution_count": 67,
     "metadata": {},
     "output_type": "execute_result"
    }
   ],
   "source": [
    "seasonal_mde"
   ]
  },
  {
   "cell_type": "markdown",
   "metadata": {},
   "source": [
    "Видно снижение MDE к августу-сентябрю и рост после"
   ]
  },
  {
   "cell_type": "markdown",
   "metadata": {},
   "source": [
    "Попробуем брать разное кол-во дней для расчета cuped"
   ]
  },
  {
   "cell_type": "code",
   "execution_count": 98,
   "metadata": {},
   "outputs": [],
   "source": [
    "seasonal_mde_by_days_before_df = pd.DataFrame(seasonal_mde_by_days_before, columns=['days_before', 'start_date', 'mde'])"
   ]
  },
  {
   "cell_type": "code",
   "execution_count": 99,
   "metadata": {},
   "outputs": [
    {
     "data": {
      "text/html": [
       "<div>\n",
       "<style scoped>\n",
       "    .dataframe tbody tr th:only-of-type {\n",
       "        vertical-align: middle;\n",
       "    }\n",
       "\n",
       "    .dataframe tbody tr th {\n",
       "        vertical-align: top;\n",
       "    }\n",
       "\n",
       "    .dataframe thead th {\n",
       "        text-align: right;\n",
       "    }\n",
       "</style>\n",
       "<table border=\"1\" class=\"dataframe\">\n",
       "  <thead>\n",
       "    <tr style=\"text-align: right;\">\n",
       "      <th></th>\n",
       "      <th>days_before</th>\n",
       "      <th>start_date</th>\n",
       "      <th>mde</th>\n",
       "    </tr>\n",
       "  </thead>\n",
       "  <tbody>\n",
       "    <tr>\n",
       "      <th>0</th>\n",
       "      <td>5</td>\n",
       "      <td>2019-06-24</td>\n",
       "      <td>30.030397</td>\n",
       "    </tr>\n",
       "    <tr>\n",
       "      <th>1</th>\n",
       "      <td>5</td>\n",
       "      <td>2019-07-24</td>\n",
       "      <td>31.384917</td>\n",
       "    </tr>\n",
       "    <tr>\n",
       "      <th>2</th>\n",
       "      <td>5</td>\n",
       "      <td>2019-08-23</td>\n",
       "      <td>23.579967</td>\n",
       "    </tr>\n",
       "    <tr>\n",
       "      <th>3</th>\n",
       "      <td>5</td>\n",
       "      <td>2019-09-22</td>\n",
       "      <td>24.186718</td>\n",
       "    </tr>\n",
       "    <tr>\n",
       "      <th>4</th>\n",
       "      <td>5</td>\n",
       "      <td>2019-10-22</td>\n",
       "      <td>26.525822</td>\n",
       "    </tr>\n",
       "  </tbody>\n",
       "</table>\n",
       "</div>"
      ],
      "text/plain": [
       "   days_before  start_date        mde\n",
       "0            5  2019-06-24  30.030397\n",
       "1            5  2019-07-24  31.384917\n",
       "2            5  2019-08-23  23.579967\n",
       "3            5  2019-09-22  24.186718\n",
       "4            5  2019-10-22  26.525822"
      ]
     },
     "execution_count": 99,
     "metadata": {},
     "output_type": "execute_result"
    }
   ],
   "source": [
    "seasonal_mde_by_days_before_df.head()"
   ]
  },
  {
   "cell_type": "code",
   "execution_count": 100,
   "metadata": {},
   "outputs": [
    {
     "data": {
      "text/plain": [
       "days_before\n",
       "5     23.579967\n",
       "10    22.733640\n",
       "15    21.527998\n",
       "20    22.762208\n",
       "25    20.871314\n",
       "30    19.822358\n",
       "Name: mde, dtype: float64"
      ]
     },
     "execution_count": 100,
     "metadata": {},
     "output_type": "execute_result"
    }
   ],
   "source": [
    "seasonal_mde_by_days_before_df.groupby('days_before').min().mde"
   ]
  },
  {
   "cell_type": "markdown",
   "metadata": {},
   "source": [
    "Минимальный MDE достигается при 30 днях до теста в августе и равен 19.8"
   ]
  },
  {
   "cell_type": "code",
   "execution_count": 120,
   "metadata": {},
   "outputs": [],
   "source": [
    "base_mde = []\n",
    "for start_date in seasonal_mde_by_days_before_df.start_date:\n",
    "    x = choose_date(df, datetime.datetime.strptime(start_date, '%Y-%m-%d'), 30, 0.5)\n",
    "\n",
    "            \n",
    "    mean = x.revenue_amount.mean()\n",
    "    std = x.revenue_amount.std()\n",
    "    alpha = 0.05\n",
    "    power = 0.8\n",
    "\n",
    "        \n",
    "    effect_size = tt_ind_solve_power(effect_size=None, alpha=alpha, power=power, nobs1=x.shape[0], ratio=1, alternative = 'two-sided')    \n",
    "    base_mde.append(effect_size*std)"
   ]
  },
  {
   "cell_type": "code",
   "execution_count": 121,
   "metadata": {},
   "outputs": [
    {
     "data": {
      "text/html": [
       "<div>\n",
       "<style scoped>\n",
       "    .dataframe tbody tr th:only-of-type {\n",
       "        vertical-align: middle;\n",
       "    }\n",
       "\n",
       "    .dataframe tbody tr th {\n",
       "        vertical-align: top;\n",
       "    }\n",
       "\n",
       "    .dataframe thead th {\n",
       "        text-align: right;\n",
       "    }\n",
       "</style>\n",
       "<table border=\"1\" class=\"dataframe\">\n",
       "  <thead>\n",
       "    <tr style=\"text-align: right;\">\n",
       "      <th></th>\n",
       "      <th>days_before</th>\n",
       "      <th>start_date</th>\n",
       "      <th>mde</th>\n",
       "      <th>base_mde</th>\n",
       "      <th>mde_ratio</th>\n",
       "    </tr>\n",
       "  </thead>\n",
       "  <tbody>\n",
       "    <tr>\n",
       "      <th>0</th>\n",
       "      <td>5</td>\n",
       "      <td>2019-06-24</td>\n",
       "      <td>30.030397</td>\n",
       "      <td>49.698354</td>\n",
       "      <td>1.654935</td>\n",
       "    </tr>\n",
       "    <tr>\n",
       "      <th>1</th>\n",
       "      <td>5</td>\n",
       "      <td>2019-07-24</td>\n",
       "      <td>31.384917</td>\n",
       "      <td>52.780123</td>\n",
       "      <td>1.681703</td>\n",
       "    </tr>\n",
       "    <tr>\n",
       "      <th>2</th>\n",
       "      <td>5</td>\n",
       "      <td>2019-08-23</td>\n",
       "      <td>23.579967</td>\n",
       "      <td>48.513177</td>\n",
       "      <td>2.057390</td>\n",
       "    </tr>\n",
       "    <tr>\n",
       "      <th>3</th>\n",
       "      <td>5</td>\n",
       "      <td>2019-09-22</td>\n",
       "      <td>24.186718</td>\n",
       "      <td>53.166510</td>\n",
       "      <td>2.198170</td>\n",
       "    </tr>\n",
       "    <tr>\n",
       "      <th>4</th>\n",
       "      <td>5</td>\n",
       "      <td>2019-10-22</td>\n",
       "      <td>26.525822</td>\n",
       "      <td>51.541717</td>\n",
       "      <td>1.943077</td>\n",
       "    </tr>\n",
       "    <tr>\n",
       "      <th>5</th>\n",
       "      <td>10</td>\n",
       "      <td>2019-06-29</td>\n",
       "      <td>31.148355</td>\n",
       "      <td>45.682090</td>\n",
       "      <td>1.466597</td>\n",
       "    </tr>\n",
       "    <tr>\n",
       "      <th>6</th>\n",
       "      <td>10</td>\n",
       "      <td>2019-07-29</td>\n",
       "      <td>28.496599</td>\n",
       "      <td>54.156024</td>\n",
       "      <td>1.900438</td>\n",
       "    </tr>\n",
       "    <tr>\n",
       "      <th>7</th>\n",
       "      <td>10</td>\n",
       "      <td>2019-08-28</td>\n",
       "      <td>22.733640</td>\n",
       "      <td>49.459065</td>\n",
       "      <td>2.175589</td>\n",
       "    </tr>\n",
       "    <tr>\n",
       "      <th>8</th>\n",
       "      <td>10</td>\n",
       "      <td>2019-09-27</td>\n",
       "      <td>23.464819</td>\n",
       "      <td>52.814059</td>\n",
       "      <td>2.250776</td>\n",
       "    </tr>\n",
       "    <tr>\n",
       "      <th>9</th>\n",
       "      <td>10</td>\n",
       "      <td>2019-10-27</td>\n",
       "      <td>26.030107</td>\n",
       "      <td>49.251743</td>\n",
       "      <td>1.892107</td>\n",
       "    </tr>\n",
       "    <tr>\n",
       "      <th>10</th>\n",
       "      <td>15</td>\n",
       "      <td>2019-07-04</td>\n",
       "      <td>30.121160</td>\n",
       "      <td>47.532990</td>\n",
       "      <td>1.578060</td>\n",
       "    </tr>\n",
       "    <tr>\n",
       "      <th>11</th>\n",
       "      <td>15</td>\n",
       "      <td>2019-08-03</td>\n",
       "      <td>26.515345</td>\n",
       "      <td>53.077618</td>\n",
       "      <td>2.001770</td>\n",
       "    </tr>\n",
       "    <tr>\n",
       "      <th>12</th>\n",
       "      <td>15</td>\n",
       "      <td>2019-09-02</td>\n",
       "      <td>21.527998</td>\n",
       "      <td>50.024500</td>\n",
       "      <td>2.323695</td>\n",
       "    </tr>\n",
       "    <tr>\n",
       "      <th>13</th>\n",
       "      <td>15</td>\n",
       "      <td>2019-10-02</td>\n",
       "      <td>23.858734</td>\n",
       "      <td>54.484224</td>\n",
       "      <td>2.283618</td>\n",
       "    </tr>\n",
       "    <tr>\n",
       "      <th>14</th>\n",
       "      <td>15</td>\n",
       "      <td>2019-11-01</td>\n",
       "      <td>24.232288</td>\n",
       "      <td>47.480711</td>\n",
       "      <td>1.959399</td>\n",
       "    </tr>\n",
       "    <tr>\n",
       "      <th>15</th>\n",
       "      <td>20</td>\n",
       "      <td>2019-07-09</td>\n",
       "      <td>28.526140</td>\n",
       "      <td>48.630702</td>\n",
       "      <td>1.704777</td>\n",
       "    </tr>\n",
       "    <tr>\n",
       "      <th>16</th>\n",
       "      <td>20</td>\n",
       "      <td>2019-08-08</td>\n",
       "      <td>25.520976</td>\n",
       "      <td>54.233690</td>\n",
       "      <td>2.125063</td>\n",
       "    </tr>\n",
       "    <tr>\n",
       "      <th>17</th>\n",
       "      <td>20</td>\n",
       "      <td>2019-09-07</td>\n",
       "      <td>22.762208</td>\n",
       "      <td>49.000558</td>\n",
       "      <td>2.152715</td>\n",
       "    </tr>\n",
       "    <tr>\n",
       "      <th>18</th>\n",
       "      <td>20</td>\n",
       "      <td>2019-10-07</td>\n",
       "      <td>25.644649</td>\n",
       "      <td>55.487052</td>\n",
       "      <td>2.163689</td>\n",
       "    </tr>\n",
       "    <tr>\n",
       "      <th>19</th>\n",
       "      <td>20</td>\n",
       "      <td>2019-11-06</td>\n",
       "      <td>22.847725</td>\n",
       "      <td>45.904998</td>\n",
       "      <td>2.009172</td>\n",
       "    </tr>\n",
       "    <tr>\n",
       "      <th>20</th>\n",
       "      <td>25</td>\n",
       "      <td>2019-07-14</td>\n",
       "      <td>29.222004</td>\n",
       "      <td>49.818929</td>\n",
       "      <td>1.704843</td>\n",
       "    </tr>\n",
       "    <tr>\n",
       "      <th>21</th>\n",
       "      <td>25</td>\n",
       "      <td>2019-08-13</td>\n",
       "      <td>20.871314</td>\n",
       "      <td>52.376631</td>\n",
       "      <td>2.509503</td>\n",
       "    </tr>\n",
       "    <tr>\n",
       "      <th>22</th>\n",
       "      <td>25</td>\n",
       "      <td>2019-09-12</td>\n",
       "      <td>22.273650</td>\n",
       "      <td>51.170437</td>\n",
       "      <td>2.297353</td>\n",
       "    </tr>\n",
       "    <tr>\n",
       "      <th>23</th>\n",
       "      <td>25</td>\n",
       "      <td>2019-10-12</td>\n",
       "      <td>24.910744</td>\n",
       "      <td>53.323535</td>\n",
       "      <td>2.140584</td>\n",
       "    </tr>\n",
       "    <tr>\n",
       "      <th>24</th>\n",
       "      <td>30</td>\n",
       "      <td>2019-07-19</td>\n",
       "      <td>28.284215</td>\n",
       "      <td>49.657023</td>\n",
       "      <td>1.755644</td>\n",
       "    </tr>\n",
       "    <tr>\n",
       "      <th>25</th>\n",
       "      <td>30</td>\n",
       "      <td>2019-08-18</td>\n",
       "      <td>19.822358</td>\n",
       "      <td>50.184387</td>\n",
       "      <td>2.531706</td>\n",
       "    </tr>\n",
       "    <tr>\n",
       "      <th>26</th>\n",
       "      <td>30</td>\n",
       "      <td>2019-09-17</td>\n",
       "      <td>20.122827</td>\n",
       "      <td>52.701595</td>\n",
       "      <td>2.618996</td>\n",
       "    </tr>\n",
       "    <tr>\n",
       "      <th>27</th>\n",
       "      <td>30</td>\n",
       "      <td>2019-10-17</td>\n",
       "      <td>24.564429</td>\n",
       "      <td>52.024691</td>\n",
       "      <td>2.117887</td>\n",
       "    </tr>\n",
       "  </tbody>\n",
       "</table>\n",
       "</div>"
      ],
      "text/plain": [
       "    days_before  start_date        mde   base_mde  mde_ratio\n",
       "0             5  2019-06-24  30.030397  49.698354   1.654935\n",
       "1             5  2019-07-24  31.384917  52.780123   1.681703\n",
       "2             5  2019-08-23  23.579967  48.513177   2.057390\n",
       "3             5  2019-09-22  24.186718  53.166510   2.198170\n",
       "4             5  2019-10-22  26.525822  51.541717   1.943077\n",
       "5            10  2019-06-29  31.148355  45.682090   1.466597\n",
       "6            10  2019-07-29  28.496599  54.156024   1.900438\n",
       "7            10  2019-08-28  22.733640  49.459065   2.175589\n",
       "8            10  2019-09-27  23.464819  52.814059   2.250776\n",
       "9            10  2019-10-27  26.030107  49.251743   1.892107\n",
       "10           15  2019-07-04  30.121160  47.532990   1.578060\n",
       "11           15  2019-08-03  26.515345  53.077618   2.001770\n",
       "12           15  2019-09-02  21.527998  50.024500   2.323695\n",
       "13           15  2019-10-02  23.858734  54.484224   2.283618\n",
       "14           15  2019-11-01  24.232288  47.480711   1.959399\n",
       "15           20  2019-07-09  28.526140  48.630702   1.704777\n",
       "16           20  2019-08-08  25.520976  54.233690   2.125063\n",
       "17           20  2019-09-07  22.762208  49.000558   2.152715\n",
       "18           20  2019-10-07  25.644649  55.487052   2.163689\n",
       "19           20  2019-11-06  22.847725  45.904998   2.009172\n",
       "20           25  2019-07-14  29.222004  49.818929   1.704843\n",
       "21           25  2019-08-13  20.871314  52.376631   2.509503\n",
       "22           25  2019-09-12  22.273650  51.170437   2.297353\n",
       "23           25  2019-10-12  24.910744  53.323535   2.140584\n",
       "24           30  2019-07-19  28.284215  49.657023   1.755644\n",
       "25           30  2019-08-18  19.822358  50.184387   2.531706\n",
       "26           30  2019-09-17  20.122827  52.701595   2.618996\n",
       "27           30  2019-10-17  24.564429  52.024691   2.117887"
      ]
     },
     "execution_count": 121,
     "metadata": {},
     "output_type": "execute_result"
    }
   ],
   "source": [
    "seasonal_mde_by_days_before_df['base_mde'] = base_mde\n",
    "seasonal_mde_by_days_before_df['mde_ratio'] = seasonal_mde_by_days_before_df.base_mde / seasonal_mde_by_days_before_df.mde\n",
    "seasonal_mde_by_days_before_df"
   ]
  },
  {
   "cell_type": "code",
   "execution_count": 122,
   "metadata": {},
   "outputs": [
    {
     "data": {
      "text/plain": [
       "days_before\n",
       "5     2.198170\n",
       "10    2.250776\n",
       "15    2.323695\n",
       "20    2.163689\n",
       "25    2.509503\n",
       "30    2.618996\n",
       "Name: mde_ratio, dtype: float64"
      ]
     },
     "execution_count": 122,
     "metadata": {},
     "output_type": "execute_result"
    }
   ],
   "source": [
    "seasonal_mde_by_days_before_df.groupby('days_before').max().mde_ratio"
   ]
  },
  {
   "cell_type": "markdown",
   "metadata": {},
   "source": [
    "Наибольшее уменьшение получилось на 30 днях до теста в сентябре, а имеено в 2.62 раза"
   ]
  },
  {
   "cell_type": "markdown",
   "metadata": {},
   "source": [
    "\n",
    "\n",
    "\n",
    "#### * Стратификация 4 балла (задание для получения дополнительных баллов)\n",
    "Разработайте подход по снижению дисперсии на основе методики стратификации выборок:\n",
    "\n",
    "- Стратифицируйте выборки внутри срезов user_segment, region, category\n",
    "- Рассчитайте стратифицированные среднее,стандартное отклонение для этих выборок и MDE для теста 50/50% длительностью 30 дней.\n",
    "- В каких срезах достигается наибольшее снижение MDE?\n",
    "\n"
   ]
  },
  {
   "cell_type": "markdown",
   "metadata": {},
   "source": [
    "Стратифицируем выборки"
   ]
  },
  {
   "cell_type": "code",
   "execution_count": 104,
   "metadata": {},
   "outputs": [
    {
     "data": {
      "text/html": [
       "<div>\n",
       "<style scoped>\n",
       "    .dataframe tbody tr th:only-of-type {\n",
       "        vertical-align: middle;\n",
       "    }\n",
       "\n",
       "    .dataframe tbody tr th {\n",
       "        vertical-align: top;\n",
       "    }\n",
       "\n",
       "    .dataframe thead th {\n",
       "        text-align: right;\n",
       "    }\n",
       "</style>\n",
       "<table border=\"1\" class=\"dataframe\">\n",
       "  <thead>\n",
       "    <tr style=\"text-align: right;\">\n",
       "      <th></th>\n",
       "      <th>event_date</th>\n",
       "      <th>user_id</th>\n",
       "      <th>user_segment</th>\n",
       "      <th>category</th>\n",
       "      <th>region</th>\n",
       "      <th>revenue_amount</th>\n",
       "      <th>revenue_amount_user_segment_probality</th>\n",
       "      <th>revenue_amount_category_probality</th>\n",
       "      <th>revenue_amount_region_probality</th>\n",
       "    </tr>\n",
       "  </thead>\n",
       "  <tbody>\n",
       "    <tr>\n",
       "      <th>0</th>\n",
       "      <td>2019-06-18</td>\n",
       "      <td>4129257975403696</td>\n",
       "      <td>4626944681007198896</td>\n",
       "      <td>7204754148424990691</td>\n",
       "      <td>2201388710798473628</td>\n",
       "      <td>139</td>\n",
       "      <td>0.418554</td>\n",
       "      <td>0.085387</td>\n",
       "      <td>0.007404</td>\n",
       "    </tr>\n",
       "    <tr>\n",
       "      <th>1</th>\n",
       "      <td>2019-06-18</td>\n",
       "      <td>7225254357470025</td>\n",
       "      <td>4626944681007198896</td>\n",
       "      <td>57514010642945023</td>\n",
       "      <td>3048517866726460689</td>\n",
       "      <td>193</td>\n",
       "      <td>0.418554</td>\n",
       "      <td>0.079979</td>\n",
       "      <td>0.026311</td>\n",
       "    </tr>\n",
       "    <tr>\n",
       "      <th>2</th>\n",
       "      <td>2019-06-18</td>\n",
       "      <td>8912846500600569</td>\n",
       "      <td>4626944681007198896</td>\n",
       "      <td>5983323600580891431</td>\n",
       "      <td>3048517866726460689</td>\n",
       "      <td>160</td>\n",
       "      <td>0.418554</td>\n",
       "      <td>0.055670</td>\n",
       "      <td>0.026311</td>\n",
       "    </tr>\n",
       "    <tr>\n",
       "      <th>3</th>\n",
       "      <td>2019-06-18</td>\n",
       "      <td>20910801279823046</td>\n",
       "      <td>4626944681007198896</td>\n",
       "      <td>6847326422676498281</td>\n",
       "      <td>7762196236856042106</td>\n",
       "      <td>209</td>\n",
       "      <td>0.418554</td>\n",
       "      <td>0.012282</td>\n",
       "      <td>0.006319</td>\n",
       "    </tr>\n",
       "    <tr>\n",
       "      <th>4</th>\n",
       "      <td>2019-06-18</td>\n",
       "      <td>34873300821657220</td>\n",
       "      <td>2376074197230840906</td>\n",
       "      <td>3187769798308634693</td>\n",
       "      <td>3855810523611026650</td>\n",
       "      <td>160</td>\n",
       "      <td>0.465340</td>\n",
       "      <td>0.088939</td>\n",
       "      <td>0.081648</td>\n",
       "    </tr>\n",
       "  </tbody>\n",
       "</table>\n",
       "</div>"
      ],
      "text/plain": [
       "  event_date            user_id         user_segment             category  \\\n",
       "0 2019-06-18   4129257975403696  4626944681007198896  7204754148424990691   \n",
       "1 2019-06-18   7225254357470025  4626944681007198896    57514010642945023   \n",
       "2 2019-06-18   8912846500600569  4626944681007198896  5983323600580891431   \n",
       "3 2019-06-18  20910801279823046  4626944681007198896  6847326422676498281   \n",
       "4 2019-06-18  34873300821657220  2376074197230840906  3187769798308634693   \n",
       "\n",
       "                region  revenue_amount  revenue_amount_user_segment_probality  \\\n",
       "0  2201388710798473628             139                               0.418554   \n",
       "1  3048517866726460689             193                               0.418554   \n",
       "2  3048517866726460689             160                               0.418554   \n",
       "3  7762196236856042106             209                               0.418554   \n",
       "4  3855810523611026650             160                               0.465340   \n",
       "\n",
       "   revenue_amount_category_probality  revenue_amount_region_probality  \n",
       "0                           0.085387                         0.007404  \n",
       "1                           0.079979                         0.026311  \n",
       "2                           0.055670                         0.026311  \n",
       "3                           0.012282                         0.006319  \n",
       "4                           0.088939                         0.081648  "
      ]
     },
     "execution_count": 104,
     "metadata": {},
     "output_type": "execute_result"
    }
   ],
   "source": [
    "strata_df = df.copy()\n",
    "\n",
    "user_segment_strata_p = df[['user_segment','revenue_amount']].groupby(['user_segment']).count() / df.count()[0]\n",
    "strata_df = strata_df.join(user_segment_strata_p, on='user_segment', rsuffix='_user_segment_probality')\n",
    "\n",
    "category_strata_p = df[['category','revenue_amount']].groupby(['category']).count() / df.count()[0]\n",
    "strata_df = strata_df.join(category_strata_p, on='category', rsuffix='_category_probality')\n",
    "\n",
    "region_strata_p = df[['region','revenue_amount']].groupby(['region']).count() / df.count()[0]\n",
    "strata_df = strata_df.join(region_strata_p, on='region', rsuffix='_region_probality')\n",
    "\n",
    "strata_df.head()"
   ]
  },
  {
   "cell_type": "code",
   "execution_count": 105,
   "metadata": {},
   "outputs": [
    {
     "data": {
      "text/html": [
       "<div>\n",
       "<style scoped>\n",
       "    .dataframe tbody tr th:only-of-type {\n",
       "        vertical-align: middle;\n",
       "    }\n",
       "\n",
       "    .dataframe tbody tr th {\n",
       "        vertical-align: top;\n",
       "    }\n",
       "\n",
       "    .dataframe thead th {\n",
       "        text-align: right;\n",
       "    }\n",
       "</style>\n",
       "<table border=\"1\" class=\"dataframe\">\n",
       "  <thead>\n",
       "    <tr style=\"text-align: right;\">\n",
       "      <th></th>\n",
       "      <th>revenue_amount</th>\n",
       "    </tr>\n",
       "    <tr>\n",
       "      <th>user_segment</th>\n",
       "      <th></th>\n",
       "    </tr>\n",
       "  </thead>\n",
       "  <tbody>\n",
       "    <tr>\n",
       "      <th>853431062533847667</th>\n",
       "      <td>0.116105</td>\n",
       "    </tr>\n",
       "    <tr>\n",
       "      <th>2376074197230840906</th>\n",
       "      <td>0.465340</td>\n",
       "    </tr>\n",
       "    <tr>\n",
       "      <th>4626944681007198896</th>\n",
       "      <td>0.418554</td>\n",
       "    </tr>\n",
       "  </tbody>\n",
       "</table>\n",
       "</div>"
      ],
      "text/plain": [
       "                     revenue_amount\n",
       "user_segment                       \n",
       "853431062533847667         0.116105\n",
       "2376074197230840906        0.465340\n",
       "4626944681007198896        0.418554"
      ]
     },
     "execution_count": 105,
     "metadata": {},
     "output_type": "execute_result"
    }
   ],
   "source": [
    "user_segment_strata_p"
   ]
  },
  {
   "cell_type": "code",
   "execution_count": 106,
   "metadata": {},
   "outputs": [
    {
     "data": {
      "text/html": [
       "<div>\n",
       "<style scoped>\n",
       "    .dataframe tbody tr th:only-of-type {\n",
       "        vertical-align: middle;\n",
       "    }\n",
       "\n",
       "    .dataframe tbody tr th {\n",
       "        vertical-align: top;\n",
       "    }\n",
       "\n",
       "    .dataframe thead th {\n",
       "        text-align: right;\n",
       "    }\n",
       "</style>\n",
       "<table border=\"1\" class=\"dataframe\">\n",
       "  <thead>\n",
       "    <tr style=\"text-align: right;\">\n",
       "      <th></th>\n",
       "      <th>revenue_amount</th>\n",
       "    </tr>\n",
       "    <tr>\n",
       "      <th>category</th>\n",
       "      <th></th>\n",
       "    </tr>\n",
       "  </thead>\n",
       "  <tbody>\n",
       "    <tr>\n",
       "      <th>57514010642945023</th>\n",
       "      <td>0.079979</td>\n",
       "    </tr>\n",
       "    <tr>\n",
       "      <th>91460430793700892</th>\n",
       "      <td>0.032520</td>\n",
       "    </tr>\n",
       "    <tr>\n",
       "      <th>174490086998335078</th>\n",
       "      <td>0.044031</td>\n",
       "    </tr>\n",
       "    <tr>\n",
       "      <th>264558924403680107</th>\n",
       "      <td>0.014157</td>\n",
       "    </tr>\n",
       "    <tr>\n",
       "      <th>282115902545472456</th>\n",
       "      <td>0.004864</td>\n",
       "    </tr>\n",
       "  </tbody>\n",
       "</table>\n",
       "</div>"
      ],
      "text/plain": [
       "                    revenue_amount\n",
       "category                          \n",
       "57514010642945023         0.079979\n",
       "91460430793700892         0.032520\n",
       "174490086998335078        0.044031\n",
       "264558924403680107        0.014157\n",
       "282115902545472456        0.004864"
      ]
     },
     "execution_count": 106,
     "metadata": {},
     "output_type": "execute_result"
    }
   ],
   "source": [
    "category_strata_p.head()"
   ]
  },
  {
   "cell_type": "code",
   "execution_count": 107,
   "metadata": {},
   "outputs": [
    {
     "data": {
      "text/html": [
       "<div>\n",
       "<style scoped>\n",
       "    .dataframe tbody tr th:only-of-type {\n",
       "        vertical-align: middle;\n",
       "    }\n",
       "\n",
       "    .dataframe tbody tr th {\n",
       "        vertical-align: top;\n",
       "    }\n",
       "\n",
       "    .dataframe thead th {\n",
       "        text-align: right;\n",
       "    }\n",
       "</style>\n",
       "<table border=\"1\" class=\"dataframe\">\n",
       "  <thead>\n",
       "    <tr style=\"text-align: right;\">\n",
       "      <th></th>\n",
       "      <th>revenue_amount</th>\n",
       "    </tr>\n",
       "    <tr>\n",
       "      <th>region</th>\n",
       "      <th></th>\n",
       "    </tr>\n",
       "  </thead>\n",
       "  <tbody>\n",
       "    <tr>\n",
       "      <th>68475388295793322</th>\n",
       "      <td>0.011118</td>\n",
       "    </tr>\n",
       "    <tr>\n",
       "      <th>181387893390186210</th>\n",
       "      <td>0.004725</td>\n",
       "    </tr>\n",
       "    <tr>\n",
       "      <th>308194675497345788</th>\n",
       "      <td>0.002590</td>\n",
       "    </tr>\n",
       "    <tr>\n",
       "      <th>385667469633138042</th>\n",
       "      <td>0.006896</td>\n",
       "    </tr>\n",
       "    <tr>\n",
       "      <th>405364780634206711</th>\n",
       "      <td>0.000121</td>\n",
       "    </tr>\n",
       "  </tbody>\n",
       "</table>\n",
       "</div>"
      ],
      "text/plain": [
       "                    revenue_amount\n",
       "region                            \n",
       "68475388295793322         0.011118\n",
       "181387893390186210        0.004725\n",
       "308194675497345788        0.002590\n",
       "385667469633138042        0.006896\n",
       "405364780634206711        0.000121"
      ]
     },
     "execution_count": 107,
     "metadata": {},
     "output_type": "execute_result"
    }
   ],
   "source": [
    "region_strata_p.head()"
   ]
  },
  {
   "cell_type": "code",
   "execution_count": 108,
   "metadata": {},
   "outputs": [
    {
     "data": {
      "text/html": [
       "<div>\n",
       "<style scoped>\n",
       "    .dataframe tbody tr th:only-of-type {\n",
       "        vertical-align: middle;\n",
       "    }\n",
       "\n",
       "    .dataframe tbody tr th {\n",
       "        vertical-align: top;\n",
       "    }\n",
       "\n",
       "    .dataframe thead th {\n",
       "        text-align: right;\n",
       "    }\n",
       "</style>\n",
       "<table border=\"1\" class=\"dataframe\">\n",
       "  <thead>\n",
       "    <tr style=\"text-align: right;\">\n",
       "      <th></th>\n",
       "      <th>event_date</th>\n",
       "      <th>user_id</th>\n",
       "      <th>user_segment</th>\n",
       "      <th>category</th>\n",
       "      <th>region</th>\n",
       "      <th>revenue_amount</th>\n",
       "      <th>revenue_amount_user_segment_probality</th>\n",
       "      <th>revenue_amount_category_probality</th>\n",
       "      <th>revenue_amount_region_probality</th>\n",
       "    </tr>\n",
       "  </thead>\n",
       "  <tbody>\n",
       "    <tr>\n",
       "      <th>0</th>\n",
       "      <td>2019-06-18</td>\n",
       "      <td>4129257975403696</td>\n",
       "      <td>4626944681007198896</td>\n",
       "      <td>7204754148424990691</td>\n",
       "      <td>2201388710798473628</td>\n",
       "      <td>139</td>\n",
       "      <td>0.418554</td>\n",
       "      <td>0.085387</td>\n",
       "      <td>0.007404</td>\n",
       "    </tr>\n",
       "    <tr>\n",
       "      <th>1</th>\n",
       "      <td>2019-06-18</td>\n",
       "      <td>7225254357470025</td>\n",
       "      <td>4626944681007198896</td>\n",
       "      <td>57514010642945023</td>\n",
       "      <td>3048517866726460689</td>\n",
       "      <td>193</td>\n",
       "      <td>0.418554</td>\n",
       "      <td>0.079979</td>\n",
       "      <td>0.026311</td>\n",
       "    </tr>\n",
       "    <tr>\n",
       "      <th>2</th>\n",
       "      <td>2019-06-18</td>\n",
       "      <td>8912846500600569</td>\n",
       "      <td>4626944681007198896</td>\n",
       "      <td>5983323600580891431</td>\n",
       "      <td>3048517866726460689</td>\n",
       "      <td>160</td>\n",
       "      <td>0.418554</td>\n",
       "      <td>0.055670</td>\n",
       "      <td>0.026311</td>\n",
       "    </tr>\n",
       "    <tr>\n",
       "      <th>3</th>\n",
       "      <td>2019-06-18</td>\n",
       "      <td>20910801279823046</td>\n",
       "      <td>4626944681007198896</td>\n",
       "      <td>6847326422676498281</td>\n",
       "      <td>7762196236856042106</td>\n",
       "      <td>209</td>\n",
       "      <td>0.418554</td>\n",
       "      <td>0.012282</td>\n",
       "      <td>0.006319</td>\n",
       "    </tr>\n",
       "    <tr>\n",
       "      <th>4</th>\n",
       "      <td>2019-06-18</td>\n",
       "      <td>34873300821657220</td>\n",
       "      <td>2376074197230840906</td>\n",
       "      <td>3187769798308634693</td>\n",
       "      <td>3855810523611026650</td>\n",
       "      <td>160</td>\n",
       "      <td>0.465340</td>\n",
       "      <td>0.088939</td>\n",
       "      <td>0.081648</td>\n",
       "    </tr>\n",
       "  </tbody>\n",
       "</table>\n",
       "</div>"
      ],
      "text/plain": [
       "  event_date            user_id         user_segment             category  \\\n",
       "0 2019-06-18   4129257975403696  4626944681007198896  7204754148424990691   \n",
       "1 2019-06-18   7225254357470025  4626944681007198896    57514010642945023   \n",
       "2 2019-06-18   8912846500600569  4626944681007198896  5983323600580891431   \n",
       "3 2019-06-18  20910801279823046  4626944681007198896  6847326422676498281   \n",
       "4 2019-06-18  34873300821657220  2376074197230840906  3187769798308634693   \n",
       "\n",
       "                region  revenue_amount  revenue_amount_user_segment_probality  \\\n",
       "0  2201388710798473628             139                               0.418554   \n",
       "1  3048517866726460689             193                               0.418554   \n",
       "2  3048517866726460689             160                               0.418554   \n",
       "3  7762196236856042106             209                               0.418554   \n",
       "4  3855810523611026650             160                               0.465340   \n",
       "\n",
       "   revenue_amount_category_probality  revenue_amount_region_probality  \n",
       "0                           0.085387                         0.007404  \n",
       "1                           0.079979                         0.026311  \n",
       "2                           0.055670                         0.026311  \n",
       "3                           0.012282                         0.006319  \n",
       "4                           0.088939                         0.081648  "
      ]
     },
     "execution_count": 108,
     "metadata": {},
     "output_type": "execute_result"
    }
   ],
   "source": [
    "strata_df.head()"
   ]
  },
  {
   "cell_type": "code",
   "execution_count": 109,
   "metadata": {},
   "outputs": [
    {
     "data": {
      "text/plain": [
       "400.9046571917269"
      ]
     },
     "execution_count": 109,
     "metadata": {},
     "output_type": "execute_result"
    }
   ],
   "source": [
    "strata_df.revenue_amount.mean()"
   ]
  },
  {
   "cell_type": "code",
   "execution_count": 110,
   "metadata": {},
   "outputs": [],
   "source": [
    "def get_strat_mean(strata_df: pd.DataFrame, strat_name: str) -> float:\n",
    "    return (strata_df.groupby([strat_name]).mean().revenue_amount * strata_df.groupby([strat_name]).mean()[f'revenue_amount_{strat_name}_probality']).sum()\n",
    "\n",
    "\n",
    "def get_strat_std(strata_df: pd.DataFrame, strat_name: str) -> float:\n",
    "    return ((strata_df.groupby([strat_name]).var().revenue_amount * strata_df.groupby([strat_name]).mean()[f'revenue_amount_{strat_name}_probality']).sum() / strata_df.count()[0])**0.5\n",
    "    "
   ]
  },
  {
   "cell_type": "code",
   "execution_count": 111,
   "metadata": {},
   "outputs": [
    {
     "data": {
      "text/plain": [
       "400.9046571917269"
      ]
     },
     "execution_count": 111,
     "metadata": {},
     "output_type": "execute_result"
    }
   ],
   "source": [
    "get_strat_mean(strata_df, 'user_segment')"
   ]
  },
  {
   "cell_type": "code",
   "execution_count": 112,
   "metadata": {},
   "outputs": [
    {
     "data": {
      "text/plain": [
       "400.90465719172687"
      ]
     },
     "execution_count": 112,
     "metadata": {},
     "output_type": "execute_result"
    }
   ],
   "source": [
    "get_strat_mean(strata_df, 'category')"
   ]
  },
  {
   "cell_type": "code",
   "execution_count": 113,
   "metadata": {},
   "outputs": [
    {
     "data": {
      "text/plain": [
       "400.904657191727"
      ]
     },
     "execution_count": 113,
     "metadata": {},
     "output_type": "execute_result"
    }
   ],
   "source": [
    "get_strat_mean(strata_df, 'region')"
   ]
  },
  {
   "cell_type": "markdown",
   "metadata": {},
   "source": [
    "Вычислим СКО среднего выборки и среднего стратифицированных выборок"
   ]
  },
  {
   "cell_type": "code",
   "execution_count": 114,
   "metadata": {},
   "outputs": [
    {
     "data": {
      "text/plain": [
       "0.326942053194587"
      ]
     },
     "execution_count": 114,
     "metadata": {},
     "output_type": "execute_result"
    }
   ],
   "source": [
    "(strata_df.revenue_amount.var() / strata_df.count()[0])**0.5"
   ]
  },
  {
   "cell_type": "code",
   "execution_count": 115,
   "metadata": {},
   "outputs": [
    {
     "data": {
      "text/plain": [
       "0.3140204036144855"
      ]
     },
     "execution_count": 115,
     "metadata": {},
     "output_type": "execute_result"
    }
   ],
   "source": [
    "get_strat_std(strata_df, 'user_segment')"
   ]
  },
  {
   "cell_type": "code",
   "execution_count": 116,
   "metadata": {},
   "outputs": [
    {
     "data": {
      "text/plain": [
       "0.3206618426638745"
      ]
     },
     "execution_count": 116,
     "metadata": {},
     "output_type": "execute_result"
    }
   ],
   "source": [
    "get_strat_std(strata_df, 'category')"
   ]
  },
  {
   "cell_type": "code",
   "execution_count": 117,
   "metadata": {},
   "outputs": [
    {
     "data": {
      "text/plain": [
       "0.3229764703528736"
      ]
     },
     "execution_count": 117,
     "metadata": {},
     "output_type": "execute_result"
    }
   ],
   "source": [
    "get_strat_std(strata_df, 'region')"
   ]
  },
  {
   "cell_type": "markdown",
   "metadata": {},
   "source": [
    "Уменьшение отклонения не значительное"
   ]
  },
  {
   "cell_type": "code",
   "execution_count": null,
   "metadata": {},
   "outputs": [],
   "source": []
  },
  {
   "cell_type": "code",
   "execution_count": null,
   "metadata": {},
   "outputs": [],
   "source": []
  },
  {
   "cell_type": "code",
   "execution_count": null,
   "metadata": {},
   "outputs": [],
   "source": []
  }
 ],
 "metadata": {
  "kernelspec": {
   "display_name": "Python 3",
   "language": "python",
   "name": "python3"
  },
  "language_info": {
   "codemirror_mode": {
    "name": "ipython",
    "version": 3
   },
   "file_extension": ".py",
   "mimetype": "text/x-python",
   "name": "python",
   "nbconvert_exporter": "python",
   "pygments_lexer": "ipython3",
   "version": "3.9.9"
  }
 },
 "nbformat": 4,
 "nbformat_minor": 4
}
